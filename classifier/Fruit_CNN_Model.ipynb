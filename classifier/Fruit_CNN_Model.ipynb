{
 "cells": [
  {
   "cell_type": "markdown",
   "metadata": {},
   "source": [
    "ipython kernel install --name \"cac2020\" --user\n"
   ]
  },
  {
   "cell_type": "code",
   "execution_count": 21,
   "metadata": {},
   "outputs": [],
   "source": [
    "import numpy as np\n",
    "import pandas as pd\n",
    "import matplotlib.pyplot as plt"
   ]
  },
  {
   "cell_type": "code",
   "execution_count": 25,
   "metadata": {},
   "outputs": [],
   "source": [
    "from keras.utils.np_utils import to_categorical\n",
    "from keras.models import Sequential\n",
    "from keras.preprocessing.image import ImageDataGenerator\n",
    "from keras.optimizers import Adam\n",
    "from keras.layers import Conv2D, MaxPooling2D\n",
    "from keras.layers import Activation, Dense, Dropout, Flatten\n",
    "from tensorflow_core.python.keras.callbacks import ModelCheckpoint"
   ]
  },
  {
   "cell_type": "code",
   "execution_count": 26,
   "metadata": {},
   "outputs": [],
   "source": [
    "# from keras_tdqm import TQDMNotebookCallback\n",
    "import json"
   ]
  },
  {
   "cell_type": "code",
   "execution_count": 27,
   "metadata": {},
   "outputs": [],
   "source": [
    "train_image_path = \"C:\\\\Users\\\\neelj\\\\Documents\\\\Python\\\\fruits-360\" \\\n",
    "                   \"\\\\modified-sets\\\\Training-modified\"\n",
    "test_image_path = \"C:\\\\Users\\\\neelj\\\\Documents\\\\Python\\\\fruits-360\" \\\n",
    "                  \"\\\\modified-sets\\\\Test-modified\"\n",
    "\n",
    "batch_size = 128\n",
    "num_classes = 56\n",
    "num_epochs = 20\n",
    "img_rows, img_cols = 100, 100\n",
    "optimizer = Adam()"
   ]
  },
  {
   "cell_type": "code",
   "execution_count": 28,
   "metadata": {},
   "outputs": [
    {
     "name": "stdout",
     "output_type": "stream",
     "text": [
      "Found 23048 images belonging to 56 classes.\n",
      "Found 5743 images belonging to 56 classes.\n"
     ]
    }
   ],
   "source": [
    "train_data_gen = ImageDataGenerator(\n",
    "    rescale=1./255,\n",
    "    validation_split=0.2,\n",
    ")\n",
    "validation_data_gen = ImageDataGenerator(rescale=1./255,\n",
    "                                         validation_split=0.2,)\n",
    "\n",
    "train_data_gen = train_data_gen.flow_from_directory(\n",
    "    train_image_path,\n",
    "    # save_to_dir=\"C:\\\\Users\\\\neelj\\\\Documents\\\\Python\\\\fruits-360\" \\\n",
    "    # \"\\\\modified-sets\\\\training-processed\",\n",
    "    # save_format=\"jpeg\",\n",
    "    target_size=(img_rows, img_cols),\n",
    "    batch_size=batch_size,\n",
    "    class_mode=\"categorical\",\n",
    "    subset=\"training\",\n",
    ")\n",
    "\n",
    "validation_data_gen = validation_data_gen.flow_from_directory(\n",
    "    train_image_path,\n",
    "    target_size=(img_rows, img_cols),\n",
    "    batch_size=batch_size,\n",
    "    class_mode=\"categorical\",\n",
    "    subset=\"validation\",\n",
    ")"
   ]
  },
  {
   "cell_type": "code",
   "execution_count": 30,
   "metadata": {},
   "outputs": [
    {
     "name": "stdout",
     "output_type": "stream",
     "text": [
      "Model: \"sequential_4\"\n",
      "_________________________________________________________________\n",
      "Layer (type)                 Output Shape              Param #   \n",
      "=================================================================\n",
      "conv2d_12 (Conv2D)           (None, 100, 100, 16)      208       \n",
      "_________________________________________________________________\n",
      "activation_2 (Activation)    (None, 100, 100, 16)      0         \n",
      "_________________________________________________________________\n",
      "max_pooling2d_10 (MaxPooling (None, 50, 50, 16)        0         \n",
      "_________________________________________________________________\n",
      "conv2d_13 (Conv2D)           (None, 50, 50, 64)        4160      \n",
      "_________________________________________________________________\n",
      "max_pooling2d_11 (MaxPooling (None, 25, 25, 64)        0         \n",
      "_________________________________________________________________\n",
      "conv2d_14 (Conv2D)           (None, 25, 25, 128)       32896     \n",
      "_________________________________________________________________\n",
      "max_pooling2d_12 (MaxPooling (None, 12, 12, 128)       0         \n",
      "_________________________________________________________________\n",
      "dropout_7 (Dropout)          (None, 12, 12, 128)       0         \n",
      "_________________________________________________________________\n",
      "flatten_4 (Flatten)          (None, 18432)             0         \n",
      "_________________________________________________________________\n",
      "dense_7 (Dense)              (None, 150)               2764950   \n",
      "_________________________________________________________________\n",
      "dropout_8 (Dropout)          (None, 150)               0         \n",
      "_________________________________________________________________\n",
      "dense_8 (Dense)              (None, 56)                8456      \n",
      "=================================================================\n",
      "Total params: 2,810,670\n",
      "Trainable params: 2,810,670\n",
      "Non-trainable params: 0\n",
      "_________________________________________________________________\n"
     ]
    }
   ],
   "source": [
    "model = Sequential()\n",
    "model.add(Conv2D(16, kernel_size=(2, 2),\n",
    "                 activation=\"relu\", input_shape=(img_cols, img_rows, 3),\n",
    "                padding='same'))\n",
    "model.add(Activation(\"relu\"))\n",
    "model.add(MaxPooling2D(pool_size=2))\n",
    "\n",
    "model.add(Conv2D(64, kernel_size=(2, 2), activation=\"relu\", padding='same'))\n",
    "model.add(MaxPooling2D(pool_size=2))\n",
    "\n",
    "model.add(Conv2D(128, kernel_size=(2, 2), activation=\"relu\", padding='same'))\n",
    "model.add(MaxPooling2D(pool_size=2))\n",
    "\n",
    "model.add(Dropout(0.25))\n",
    "model.add(Flatten())\n",
    "model.add(Dense(150, activation=\"relu\"))\n",
    "model.add(Dropout(0.4))\n",
    "model.add(Dense(num_classes, activation=\"softmax\"))\n",
    "\n",
    "model.compile(loss=\"categorical_crossentropy\",\n",
    "              optimizer=optimizer,\n",
    "              metrics=[\"accuracy\"],)\n",
    "\n",
    "model.summary()"
   ]
  },
  {
   "cell_type": "code",
   "execution_count": 31,
   "metadata": {},
   "outputs": [
    {
     "name": "stdout",
     "output_type": "stream",
     "text": [
      "Epoch 1/20\n",
      "180/180 [==============================] - 193s 1s/step - loss: 1.4291 - accuracy: 0.6171 - val_loss: 0.0637 - val_accuracy: 0.9592\n",
      "Epoch 2/20\n",
      "180/180 [==============================] - 184s 1s/step - loss: 0.1750 - accuracy: 0.9459 - val_loss: 0.1645 - val_accuracy: 0.9491\n",
      "Epoch 3/20\n",
      "180/180 [==============================] - 185s 1s/step - loss: 0.0895 - accuracy: 0.9703 - val_loss: 0.3129 - val_accuracy: 0.9517\n",
      "Epoch 4/20\n",
      "180/180 [==============================] - 203s 1s/step - loss: 0.0528 - accuracy: 0.9826 - val_loss: 0.4433 - val_accuracy: 0.9671\n",
      "Epoch 5/20\n",
      "180/180 [==============================] - 217s 1s/step - loss: 0.0435 - accuracy: 0.9860 - val_loss: 0.2168 - val_accuracy: 0.9719\n",
      "Epoch 6/20\n",
      "180/180 [==============================] - 251s 1s/step - loss: 0.0366 - accuracy: 0.9882 - val_loss: 0.0956 - val_accuracy: 0.9697\n",
      "Epoch 7/20\n",
      "180/180 [==============================] - 254s 1s/step - loss: 0.0309 - accuracy: 0.9888 - val_loss: 0.4617 - val_accuracy: 0.9605\n",
      "Epoch 8/20\n",
      "180/180 [==============================] - 255s 1s/step - loss: 0.0361 - accuracy: 0.9886 - val_loss: 0.1577 - val_accuracy: 0.9640\n",
      "Epoch 9/20\n",
      "180/180 [==============================] - 254s 1s/step - loss: 0.0397 - accuracy: 0.9865 - val_loss: 0.1315 - val_accuracy: 0.9681\n",
      "Epoch 10/20\n",
      "180/180 [==============================] - 215s 1s/step - loss: 0.0288 - accuracy: 0.9893 - val_loss: 0.0972 - val_accuracy: 0.9517\n",
      "Epoch 11/20\n",
      "180/180 [==============================] - 215s 1s/step - loss: 0.0266 - accuracy: 0.9911 - val_loss: 0.3907 - val_accuracy: 0.9742\n",
      "Epoch 12/20\n",
      "180/180 [==============================] - 214s 1s/step - loss: 0.0152 - accuracy: 0.9949 - val_loss: 0.1615 - val_accuracy: 0.9701\n",
      "Epoch 13/20\n",
      "180/180 [==============================] - 214s 1s/step - loss: 0.0207 - accuracy: 0.9931 - val_loss: 0.0674 - val_accuracy: 0.9745\n",
      "Epoch 14/20\n",
      "180/180 [==============================] - 216s 1s/step - loss: 0.0232 - accuracy: 0.9927 - val_loss: 0.5098 - val_accuracy: 0.9717\n",
      "Epoch 15/20\n",
      "180/180 [==============================] - 215s 1s/step - loss: 0.0132 - accuracy: 0.9958 - val_loss: 0.0699 - val_accuracy: 0.9751\n",
      "Epoch 16/20\n",
      "180/180 [==============================] - 213s 1s/step - loss: 0.0171 - accuracy: 0.9942 - val_loss: 0.5401 - val_accuracy: 0.9706\n",
      "Epoch 17/20\n",
      "180/180 [==============================] - 211s 1s/step - loss: 0.0146 - accuracy: 0.9956 - val_loss: 0.7606 - val_accuracy: 0.9719\n",
      "Epoch 18/20\n",
      "180/180 [==============================] - 207s 1s/step - loss: 0.0238 - accuracy: 0.9919 - val_loss: 0.4689 - val_accuracy: 0.9726\n",
      "Epoch 19/20\n",
      "180/180 [==============================] - 209s 1s/step - loss: 0.0238 - accuracy: 0.9927 - val_loss: 0.3076 - val_accuracy: 0.9765\n",
      "Epoch 20/20\n",
      "180/180 [==============================] - 206s 1s/step - loss: 0.0178 - accuracy: 0.9940 - val_loss: 0.2504 - val_accuracy: 0.9779\n"
     ]
    }
   ],
   "source": [
    "\"\"\"\n",
    "CNN_model = model.fit(\n",
    "    train_data_gen,\n",
    "    epochs=num_epochs,\n",
    "    shuffle=True,\n",
    "    verbose=2,\n",
    "    validation_data=validation_data_gen,\n",
    ")\n",
    "\"\"\"\n",
    "\n",
    "CNN_model = model.fit_generator(\n",
    "    train_data_gen,\n",
    "    steps_per_epoch=train_data_gen.samples // batch_size,\n",
    "    validation_data=validation_data_gen,\n",
    "    validation_steps=validation_data_gen.samples // batch_size,\n",
    "    epochs=num_epochs,\n",
    "    verbose=1,\n",
    ")"
   ]
  },
  {
   "cell_type": "code",
   "execution_count": 32,
   "metadata": {},
   "outputs": [
    {
     "name": "stdout",
     "output_type": "stream",
     "text": [
      "Found 28791 images belonging to 56 classes.\n",
      "225/225 [==============================] - 60s 265ms/step\n"
     ]
    },
    {
     "data": {
      "text/plain": [
       "[0.00014676537830382586, 0.9952762722969055]"
      ]
     },
     "execution_count": 32,
     "metadata": {},
     "output_type": "execute_result"
    }
   ],
   "source": [
    "test_data_gen = ImageDataGenerator(rescale=1./255)\n",
    "\n",
    "test_data_gen = test_data_gen.flow_from_directory(\n",
    "    train_image_path,\n",
    "    target_size=(img_rows, img_cols),\n",
    "    batch_size=batch_size,\n",
    "    class_mode=\"categorical\",\n",
    ")\n",
    "\n",
    "model.evaluate_generator(test_data_gen,\n",
    "                        verbose=1,)"
   ]
  },
  {
   "cell_type": "code",
   "execution_count": 33,
   "metadata": {},
   "outputs": [
    {
     "name": "stdout",
     "output_type": "stream",
     "text": [
      "{0: 'Apple Golden', 1: 'Apple Granny Smith', 2: 'Apple Red Delicious', 3: 'Apple Red Yellow', 4: 'Apricot', 5: 'Avocado', 6: 'Banana', 7: 'Beetroot', 8: 'Blueberry', 9: 'Cantaloupe', 10: 'Cauliflower', 11: 'Cherry', 12: 'Chestnut', 13: 'Coconut', 14: 'Corn', 15: 'Dates', 16: 'Eggplant', 17: 'Fig', 18: 'Grape Pink', 19: 'Grape White', 20: 'Guava', 21: 'Hazelnut', 22: 'Kiwi', 23: 'Kumquats', 24: 'Lemon', 25: 'Limes', 26: 'Lychee', 27: 'Mandarine', 28: 'Mango', 29: 'Nectarine', 30: 'Nut Forest', 31: 'Nut Pecan', 32: 'Onion Red', 33: 'Onion White', 34: 'Orange', 35: 'Papaya', 36: 'Passion Fruit', 37: 'Peach', 38: 'Pear', 39: 'Pear Red', 40: 'Pepper Green', 41: 'Pepper Orange', 42: 'Pepper Red', 43: 'Pepper Yellow', 44: 'Pineapple', 45: 'Plum', 46: 'Pomegranate', 47: 'Potato Red', 48: 'Potato White', 49: 'Raspberry', 50: 'Redcurrant', 51: 'Strawberry', 52: 'Tomato', 53: 'Tomato Cherry Red', 54: 'Walnut', 55: 'Watermelon'}\n"
     ]
    }
   ],
   "source": [
    "idx_to_cls = {v: k for k, v in train_data_gen.class_indices.items()}\n",
    "print(idx_to_cls)"
   ]
  },
  {
   "cell_type": "code",
   "execution_count": 34,
   "metadata": {},
   "outputs": [],
   "source": [
    "with open(\"class-indicies.json\", \"w\") as f:\n",
    "    json.dump(idx_to_cls, f, indent=4)"
   ]
  },
  {
   "cell_type": "code",
   "execution_count": 40,
   "metadata": {},
   "outputs": [
    {
     "name": "stdout",
     "output_type": "stream",
     "text": [
      "Found 1 images belonging to 1 classes.\n",
      "[[1.06971645e-11 1.36226442e-18 2.04950001e-10 1.77623619e-07\n",
      "  2.26525753e-20 1.26678765e-10 9.98051763e-01 6.10852896e-11\n",
      "  1.22089852e-13 1.02030847e-03 8.98550206e-04 2.48573487e-13\n",
      "  2.37947704e-24 7.29672721e-15 7.99509010e-08 1.17874244e-07\n",
      "  2.01718775e-09 1.25215638e-09 1.50966814e-25 8.93102083e-07\n",
      "  1.48295503e-18 2.77710897e-05 1.79381684e-23 2.33018355e-10\n",
      "  6.56911439e-18 1.24833963e-11 3.57217917e-14 6.65476936e-18\n",
      "  3.01481960e-18 7.81025523e-16 2.48731287e-18 2.67684919e-09\n",
      "  3.03733174e-07 2.76384465e-13 2.00938688e-22 5.41490604e-21\n",
      "  1.80977449e-14 9.28639000e-21 1.07702918e-15 1.00583886e-12\n",
      "  4.00197444e-20 4.29368346e-11 1.41313575e-11 2.87936143e-19\n",
      "  7.84989563e-15 7.70754851e-17 4.12902867e-19 5.09334974e-09\n",
      "  6.07906070e-16 8.14255347e-12 9.80767696e-20 7.01418047e-12\n",
      "  7.21000724e-24 3.93364509e-16 2.95850012e-21 1.27808387e-12]]\n",
      "[6]\n"
     ]
    }
   ],
   "source": [
    "\n",
    "predict_generator = ImageDataGenerator(rescale=1/255.)\n",
    "\n",
    "predict_generator = predict_generator.flow_from_directory(\"C:\\\\Users\\\\neelj\\\\PycharmProjects\\\\cac2020\\\\classifier\",\n",
    "                              classes=[\"test-images\"],\n",
    "                              class_mode=None,\n",
    "                              shuffle=False,\n",
    "                              target_size=(img_rows, img_cols),\n",
    "                              )\n",
    "\n",
    "predictions = model.predict_generator(predict_generator)\n",
    "\n",
    "print(predictions)\n",
    "preds_cls_idx = predictions.argmax(axis=1)\n",
    "print(preds_cls_idx)"
   ]
  },
  {
   "cell_type": "code",
   "execution_count": 41,
   "metadata": {},
   "outputs": [],
   "source": [
    "model_json = model.to_json()\n",
    "with open(\"model.json\", \"w\") as f:\n",
    "    f.write(model_json)\n",
    "model.save_weights(\"model.h5\")"
   ]
  },
  {
   "cell_type": "markdown",
   "metadata": {},
   "source": [
    "ALTERNATIVE MODEL Design that may work idk"
   ]
  },
  {
   "cell_type": "code",
   "execution_count": null,
   "metadata": {},
   "outputs": [],
   "source": []
  }
 ],
 "metadata": {
  "kernelspec": {
   "display_name": "cac2020",
   "language": "python",
   "name": "cac2020"
  },
  "language_info": {
   "codemirror_mode": {
    "name": "ipython",
    "version": 3
   },
   "file_extension": ".py",
   "mimetype": "text/x-python",
   "name": "python",
   "nbconvert_exporter": "python",
   "pygments_lexer": "ipython3",
   "version": "3.7.5"
  }
 },
 "nbformat": 4,
 "nbformat_minor": 4
}
